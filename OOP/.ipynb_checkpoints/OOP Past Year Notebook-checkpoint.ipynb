{
 "cells": [
  {
   "cell_type": "code",
   "execution_count": 16,
   "metadata": {},
   "outputs": [
    {
     "name": "stdout",
     "output_type": "stream",
     "text": [
      "Hello World\n"
     ]
    }
   ],
   "source": [
    "System.out.println(\"Hello World\")"
   ]
  },
  {
   "cell_type": "code",
   "execution_count": 20,
   "metadata": {},
   "outputs": [
    {
     "name": "stdout",
     "output_type": "stream",
     "text": [
      "\n",
      "Task Total: 100\n",
      "\n"
     ]
    }
   ],
   "source": [
    "import java.util.concurrent.ExecutorService;\n",
    "import java.util.concurrent.Executors;\n",
    "\n",
    "public class AddTask implements Runnable {\n",
    "    Integer total = 0;\n",
    "    \n",
    "    public synchronized void run() {\n",
    "        total++;\n",
    "        System.out.println(\"Current Thread: \" + Thread.currentThread().getId() + \"Total is \" + total.toString());\n",
    "    }\n",
    "    \n",
    "    public static void main (String[] args) {\n",
    "        AddTask task = new AddTask();\n",
    "        ExecutorService executor = Executors.newFixedThreadPool(100);\n",
    "        for(int i = 0; i < 100; i++) {\n",
    "            executor.execute(task);\n",
    "        }\n",
    "        executor.shutdown();\n",
    "        while(!executor.isTerminated());\n",
    "        System.out.print(task.total)\n",
    "    }\n",
    "}"
   ]
  },
  {
   "cell_type": "code",
   "execution_count": null,
   "metadata": {},
   "outputs": [],
   "source": [
    "\n",
    "\n"
   ]
  },
  {
   "cell_type": "code",
   "execution_count": null,
   "metadata": {},
   "outputs": [],
   "source": []
  }
 ],
 "metadata": {
  "kernelspec": {
   "display_name": "SciJava",
   "language": "groovy",
   "name": "scijava"
  },
  "language_info": {
   "codemirror_mode": "groovy",
   "file_extension": "",
   "mimetype": "",
   "name": "scijava",
   "nbconverter_exporter": "",
   "pygments_lexer": "groovy",
   "version": "1.0"
  },
  "toc": {
   "base_numbering": 1,
   "nav_menu": {},
   "number_sections": true,
   "sideBar": true,
   "skip_h1_title": false,
   "title_cell": "Table of Contents",
   "title_sidebar": "Contents",
   "toc_cell": false,
   "toc_position": {},
   "toc_section_display": true,
   "toc_window_display": false
  }
 },
 "nbformat": 4,
 "nbformat_minor": 4
}
